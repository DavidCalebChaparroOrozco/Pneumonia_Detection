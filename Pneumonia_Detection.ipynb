{
  "nbformat": 4,
  "nbformat_minor": 0,
  "metadata": {
    "colab": {
      "name": "Pneumonia_Detection.ipynb",
      "provenance": [],
      "authorship_tag": "ABX9TyPKBX15lo9pk9BxX3wmH7Py",
      "include_colab_link": true
    },
    "kernelspec": {
      "name": "python3",
      "display_name": "Python 3"
    },
    "language_info": {
      "name": "python"
    }
  },
  "cells": [
    {
      "cell_type": "markdown",
      "metadata": {
        "id": "view-in-github",
        "colab_type": "text"
      },
      "source": [
        "<a href=\"https://colab.research.google.com/github/DavidCalebChaparroOrozco/Pneumonia_Detection/blob/main/Pneumonia_Detection.ipynb\" target=\"_parent\"><img src=\"https://colab.research.google.com/assets/colab-badge.svg\" alt=\"Open In Colab\"/></a>"
      ]
    },
    {
      "cell_type": "markdown",
      "metadata": {
        "id": "U5xm9jfW_he4"
      },
      "source": [
        "## Data from the Kaggle website\n",
        "---\n",
        "## Los datos  desde la pagina de Kaggle"
      ]
    },
    {
      "cell_type": "code",
      "metadata": {
        "colab": {
          "base_uri": "https://localhost:8080/"
        },
        "id": "Y8Y-eAbo_T0b",
        "outputId": "55370e7a-f983-4e24-de49-51ca4d5b9e9e"
      },
      "source": [
        "!wget https://www.dropbox.com/s/tlxserrdhe240lu/archive.zip\n",
        "!unzip -q 'archive.zip'"
      ],
      "execution_count": null,
      "outputs": [
        {
          "output_type": "stream",
          "name": "stdout",
          "text": [
            "--2021-09-23 19:21:35--  https://www.dropbox.com/s/tlxserrdhe240lu/archive.zip\n",
            "Resolving www.dropbox.com (www.dropbox.com)... 162.125.4.18, 2620:100:6019:18::a27d:412\n",
            "Connecting to www.dropbox.com (www.dropbox.com)|162.125.4.18|:443... connected.\n",
            "HTTP request sent, awaiting response... 301 Moved Permanently\n",
            "Location: /s/raw/tlxserrdhe240lu/archive.zip [following]\n",
            "--2021-09-23 19:21:35--  https://www.dropbox.com/s/raw/tlxserrdhe240lu/archive.zip\n",
            "Reusing existing connection to www.dropbox.com:443.\n",
            "HTTP request sent, awaiting response... 302 Found\n",
            "Location: https://uc1f248cc0637810086073969050.dl.dropboxusercontent.com/cd/0/inline/BWs2DdZjphHwJEBi-qod8-cC9BtV0sYVinw9-WR6NuDYyTmDtST71IBjamiev4P6nvyle55ZG3Q0YHIUGr8PQlVZdfRyECbPAob5hEiE0Yaitd7SSONH88gvxmfRh7SCKdGfT-5lroxg7jrlVxg9Wo3g/file# [following]\n",
            "--2021-09-23 19:21:36--  https://uc1f248cc0637810086073969050.dl.dropboxusercontent.com/cd/0/inline/BWs2DdZjphHwJEBi-qod8-cC9BtV0sYVinw9-WR6NuDYyTmDtST71IBjamiev4P6nvyle55ZG3Q0YHIUGr8PQlVZdfRyECbPAob5hEiE0Yaitd7SSONH88gvxmfRh7SCKdGfT-5lroxg7jrlVxg9Wo3g/file\n",
            "Resolving uc1f248cc0637810086073969050.dl.dropboxusercontent.com (uc1f248cc0637810086073969050.dl.dropboxusercontent.com)... 162.125.4.15, 2620:100:601c:15::a27d:60f\n",
            "Connecting to uc1f248cc0637810086073969050.dl.dropboxusercontent.com (uc1f248cc0637810086073969050.dl.dropboxusercontent.com)|162.125.4.15|:443... connected.\n",
            "HTTP request sent, awaiting response... 302 Found\n",
            "Location: /cd/0/inline2/BWum-ydv3xSg1Q5SIQAySIDsmI2p8AQ4dLTuUhZ546w5qUgFYgyvYT728_Ah8ONoz7YGNP9ybQ5Y0X0GMJ96HT0XlxexVYxuumcrkMRtRX-FjcsFgHmV16ypvTkJmChnHvzuOtCefH5w7vxb6eNmjs2hp4AtbGiOJra5wI1q16OxZ8gTMsWQ3aoZzYlL3t6RPzL5faCS02fcZ0dsXw_7aKk_MaiCpvmWxmibXzKHsKlZQ4VL7dpIGwvXSsQGvtlTI9vgxfKWZH5Y4kPMa1BOUgvFpri33KMXfE6nKp67MdSps1xYtnSs1xIQrWhG-9tgMbQP9t6jXZqaQKphjmUhbY-_DL1uzb2dp5Qt3C1hOjynVngyG_rGCF78COVZYLFcMxM/file [following]\n",
            "--2021-09-23 19:21:36--  https://uc1f248cc0637810086073969050.dl.dropboxusercontent.com/cd/0/inline2/BWum-ydv3xSg1Q5SIQAySIDsmI2p8AQ4dLTuUhZ546w5qUgFYgyvYT728_Ah8ONoz7YGNP9ybQ5Y0X0GMJ96HT0XlxexVYxuumcrkMRtRX-FjcsFgHmV16ypvTkJmChnHvzuOtCefH5w7vxb6eNmjs2hp4AtbGiOJra5wI1q16OxZ8gTMsWQ3aoZzYlL3t6RPzL5faCS02fcZ0dsXw_7aKk_MaiCpvmWxmibXzKHsKlZQ4VL7dpIGwvXSsQGvtlTI9vgxfKWZH5Y4kPMa1BOUgvFpri33KMXfE6nKp67MdSps1xYtnSs1xIQrWhG-9tgMbQP9t6jXZqaQKphjmUhbY-_DL1uzb2dp5Qt3C1hOjynVngyG_rGCF78COVZYLFcMxM/file\n",
            "Reusing existing connection to uc1f248cc0637810086073969050.dl.dropboxusercontent.com:443.\n",
            "HTTP request sent, awaiting response... 200 OK\n",
            "Length: 1237072214 (1.2G) [application/zip]\n",
            "Saving to: ‘archive.zip.1’\n",
            "\n",
            "archive.zip.1       100%[===================>]   1.15G  12.6MB/s    in 60s     \n",
            "\n",
            "2021-09-23 19:22:36 (19.8 MB/s) - ‘archive.zip.1’ saved [1237072214/1237072214]\n",
            "\n"
          ]
        }
      ]
    },
    {
      "cell_type": "markdown",
      "metadata": {
        "id": "osb7lQIdCrFV"
      },
      "source": [
        "## The libraries I have used and their respective seeds\n",
        "---\n",
        "## Las librerias que he usado y con su respectiva semilla\n"
      ]
    },
    {
      "cell_type": "code",
      "metadata": {
        "id": "HgIhMrybCjt1"
      },
      "source": [
        "import tensorflow as tf\n",
        "import numpy as np\n",
        "import matplotlib.pyplot as plt\n",
        "from pathlib import Path\n",
        "\n",
        "tf.random.set_seed(98)"
      ],
      "execution_count": null,
      "outputs": []
    },
    {
      "cell_type": "markdown",
      "metadata": {
        "id": "pazCVHXjDOPr"
      },
      "source": [
        "## Separating files with Pathlib\n",
        "---\n",
        "## Separación de las ficheros con Pathlib\n"
      ]
    },
    {
      "cell_type": "code",
      "metadata": {
        "id": "cMWSyHvcC9gA"
      },
      "source": [
        "train_path = Path('chest_xray/train/')\n",
        "validation_path = Path('chest_xray/test')\n",
        "test_path = Path('chest_xray/val')"
      ],
      "execution_count": null,
      "outputs": []
    },
    {
      "cell_type": "markdown",
      "metadata": {
        "id": "YYJs3FBwDzkD"
      },
      "source": [
        "## Take all paths within the folders 'normal' and 'pneumonia'.\n",
        "---\n",
        "## Tomar todas las rutas dentro de las carpetas 'normal' y 'pneumonia'\n"
      ]
    },
    {
      "cell_type": "code",
      "metadata": {
        "colab": {
          "base_uri": "https://localhost:8080/"
        },
        "id": "a45n5OYvDhUn",
        "outputId": "a2e76f92-b0cc-45e7-e6b7-bd6d27271b5c"
      },
      "source": [
        "train_image_paths = train_path.glob('*/*')\n",
        "val_image_paths = validation_path.glob('*/*')\n",
        "print(train_image_paths)"
      ],
      "execution_count": null,
      "outputs": [
        {
          "output_type": "stream",
          "name": "stdout",
          "text": [
            "<generator object Path.glob at 0x7fd2fd2a55d0>\n"
          ]
        }
      ]
    },
    {
      "cell_type": "markdown",
      "metadata": {
        "id": "hrdqrhP8Fnsh"
      },
      "source": [
        "## Convert generator object to List of elements \n",
        "---\n",
        "## Generar un objeto a una lista de elementos"
      ]
    },
    {
      "cell_type": "code",
      "metadata": {
        "colab": {
          "base_uri": "https://localhost:8080/"
        },
        "id": "S4c9cIOwEi-_",
        "outputId": "7155aee5-33f2-4b67-8dc1-e8d95ac80c36"
      },
      "source": [
        "train_image_paths = list(train_image_paths)\n",
        "val_image_paths = list(val_image_paths)\n",
        "print(train_image_paths[:3])"
      ],
      "execution_count": null,
      "outputs": [
        {
          "output_type": "stream",
          "name": "stdout",
          "text": [
            "[PosixPath('chest_xray/train/NORMAL/IM-0215-0001.jpeg'), PosixPath('chest_xray/train/NORMAL/NORMAL2-IM-0832-0001.jpeg'), PosixPath('chest_xray/train/NORMAL/IM-0147-0001.jpeg')]\n"
          ]
        }
      ]
    },
    {
      "cell_type": "markdown",
      "metadata": {
        "id": "EHVOX0CeGMuw"
      },
      "source": [
        "## Convert X position to Strings\n",
        "---\n",
        "## Convertir la posición X en Strings"
      ]
    },
    {
      "cell_type": "code",
      "metadata": {
        "colab": {
          "base_uri": "https://localhost:8080/"
        },
        "id": "bLDjstNzGHAu",
        "outputId": "41072b96-2d4c-45ab-b335-411a94cb03be"
      },
      "source": [
        "train_image_paths = list(map(lambda x : str(x) , train_image_paths))\n",
        "val_image_paths = list(map(lambda x : str(x) , val_image_paths)) \n",
        "print(train_image_paths[:3])"
      ],
      "execution_count": null,
      "outputs": [
        {
          "output_type": "stream",
          "name": "stdout",
          "text": [
            "['chest_xray/train/NORMAL/IM-0215-0001.jpeg', 'chest_xray/train/NORMAL/NORMAL2-IM-0832-0001.jpeg', 'chest_xray/train/NORMAL/IM-0147-0001.jpeg']\n"
          ]
        }
      ]
    },
    {
      "cell_type": "markdown",
      "metadata": {
        "id": "lKzzUJCzGn7r"
      },
      "source": [
        "##  Amount of data from training and validation datasets\n",
        "---\n",
        "## Cantidad de datos de los datasets de entrenamiento y validación"
      ]
    },
    {
      "cell_type": "code",
      "metadata": {
        "id": "cEER-BYhGXps"
      },
      "source": [
        "train_dataset_length = len(train_image_paths)\n",
        "val_dataset_length = len(val_image_paths)"
      ],
      "execution_count": null,
      "outputs": []
    },
    {
      "cell_type": "markdown",
      "metadata": {
        "id": "EetMRBkIHbvZ"
      },
      "source": [
        "# Data wrangling\n",
        "---\n",
        "## Cirugia de Datos"
      ]
    },
    {
      "cell_type": "code",
      "metadata": {
        "colab": {
          "base_uri": "https://localhost:8080/"
        },
        "id": "U0afWpQmGxwU",
        "outputId": "ff59f6d4-c522-4ed3-89fa-461e5ba7b848"
      },
      "source": [
        "LABELS = {'NORMAL' : 0 , 'PNEUMONIA' : 1}\n",
        "INV_LABELS = {0 : 'NORMAL', 1 : 'PNEUMONIA'}\n",
        "\n",
        "def get_label(path : str) -> int:\n",
        "    return LABELS[path.split(\"/\")[-2]]\n",
        "\n",
        "train_labels = list(map(lambda x : get_label(x) , train_image_paths))\n",
        "val_labels = list(map(lambda x : get_label(x) , val_image_paths))\n",
        "\n",
        "print(train_labels[:3])"
      ],
      "execution_count": null,
      "outputs": [
        {
          "output_type": "stream",
          "name": "stdout",
          "text": [
            "[0, 0, 0]\n"
          ]
        }
      ]
    },
    {
      "cell_type": "markdown",
      "metadata": {
        "id": "yMQZdMgqJcyz"
      },
      "source": [
        "## Function to transform images and create an object in TF\n",
        "--- \n",
        "## Función para transformar las imágenes y crear un objeto en TF\n",
        "\n"
      ]
    },
    {
      "cell_type": "code",
      "metadata": {
        "id": "5bIznfZXHph0"
      },
      "source": [
        "size = 32\n",
        "def load_and_transform(image , label , train = True):\n",
        "    image = tf.io.read_file(image)\n",
        "    image = tf.io.decode_jpeg(image , channels = 3)\n",
        "    image = tf.image.resize(image , [224 , 224] , method=\"nearest\")\n",
        "    if train:\n",
        "        image = tf.image.random_flip_left_right(image)\n",
        "    return image , label\n",
        "\n",
        "def get_dataset(paths , labels , train = True):\n",
        "    image_paths = tf.convert_to_tensor(paths)\n",
        "    labels = tf.convert_to_tensor(labels)\n",
        "\n",
        "    image_dataset = tf.data.Dataset.from_tensor_slices(image_paths)\n",
        "    label_dataset = tf.data.Dataset.from_tensor_slices(labels)\n",
        "\n",
        "    dataset = tf.data.Dataset.zip((image_dataset , label_dataset)).shuffle(1000)\n",
        "\n",
        "    dataset = dataset.map(lambda image , label : load_and_transform(image , label , train))\n",
        "    dataset = dataset.repeat()\n",
        "    dataset = dataset.shuffle(2048)\n",
        "    dataset = dataset.batch(size)\n",
        "\n",
        "    return dataset"
      ],
      "execution_count": null,
      "outputs": []
    },
    {
      "cell_type": "markdown",
      "metadata": {
        "id": "vitVPSMdJ0dV"
      },
      "source": [
        "\n",
        "## Creation of a training and verification dataset.\n",
        "---\n",
        "## Creación de un dataset de entrenamiento y verificación.\n"
      ]
    },
    {
      "cell_type": "code",
      "metadata": {
        "colab": {
          "base_uri": "https://localhost:8080/"
        },
        "id": "3tcRAQjrJLIy",
        "outputId": "43a08afb-ce02-4593-a4e8-1885ea50a76e"
      },
      "source": [
        "%time train_dataset = get_dataset(train_image_paths , train_labels)\n",
        "\n",
        "image , label = next(iter(train_dataset))\n",
        "print(image.shape)\n",
        "print(label.shape)"
      ],
      "execution_count": null,
      "outputs": [
        {
          "output_type": "stream",
          "name": "stdout",
          "text": [
            "CPU times: user 164 ms, sys: 26.6 ms, total: 191 ms\n",
            "Wall time: 580 ms\n",
            "(32, 224, 224, 3)\n",
            "(32,)\n"
          ]
        }
      ]
    },
    {
      "cell_type": "markdown",
      "metadata": {
        "id": "cSf8WVMsKLh3"
      },
      "source": [
        "## Samples of training images\n",
        "---\n",
        "## Muestras de imagenes de entrenamiento\n"
      ]
    },
    {
      "cell_type": "code",
      "metadata": {
        "colab": {
          "base_uri": "https://localhost:8080/",
          "height": 303
        },
        "id": "QCnweFdJKJbq",
        "outputId": "0c36d928-0106-4193-8bad-e5e650b3f12d"
      },
      "source": [
        "print(INV_LABELS[label[0].numpy()])\n",
        "plt.imshow(image[0].numpy().reshape(224 , 224 , 3))"
      ],
      "execution_count": null,
      "outputs": [
        {
          "output_type": "stream",
          "name": "stdout",
          "text": [
            "PNEUMONIA\n"
          ]
        },
        {
          "output_type": "execute_result",
          "data": {
            "text/plain": [
              "<matplotlib.image.AxesImage at 0x7fd2fd1b66d0>"
            ]
          },
          "metadata": {},
          "execution_count": 36
        },
        {
          "output_type": "display_data",
          "data": {
            "image/png": "[encoded data removed]",
            "text/plain": [
              "<Figure size 432x288 with 1 Axes>"
            ]
          },
          "metadata": {
            "needs_background": "light"
          }
        }
      ]
    },
    {
      "cell_type": "code",
      "metadata": {
        "colab": {
          "base_uri": "https://localhost:8080/"
        },
        "id": "YNtAuLJyKa5Z",
        "outputId": "e79cd071-59f3-40a6-bbd7-a2d231dc7a68"
      },
      "source": [
        "%time val_dataset = get_dataset(val_image_paths , val_labels , train = False)\n",
        "\n",
        "image , label = next(iter(val_dataset))\n",
        "print(image.shape)\n",
        "print(label.shape)"
      ],
      "execution_count": null,
      "outputs": [
        {
          "output_type": "stream",
          "name": "stdout",
          "text": [
            "CPU times: user 17.2 ms, sys: 1.81 ms, total: 19 ms\n",
            "Wall time: 19.2 ms\n",
            "(32, 224, 224, 3)\n",
            "(32,)\n"
          ]
        }
      ]
    },
    {
      "cell_type": "code",
      "metadata": {
        "colab": {
          "base_uri": "https://localhost:8080/",
          "height": 303
        },
        "id": "rocl1GTTKz9p",
        "outputId": "6a8be0e9-c088-4d1f-a3d3-de05f094b1c9"
      },
      "source": [
        "print(INV_LABELS[label[0].numpy()])\n",
        "plt.imshow(image[0].numpy().reshape(224 , 224 , 3))"
      ],
      "execution_count": null,
      "outputs": [
        {
          "output_type": "stream",
          "name": "stdout",
          "text": [
            "PNEUMONIA\n"
          ]
        },
        {
          "output_type": "execute_result",
          "data": {
            "text/plain": [
              "<matplotlib.image.AxesImage at 0x7fd2fd15ea50>"
            ]
          },
          "metadata": {},
          "execution_count": 38
        },
        {
          "output_type": "display_data",
          "data": {
            "image/png": "[encoded data removed]",
            "text/plain": [
              "<Figure size 432x288 with 1 Axes>"
            ]
          },
          "metadata": {
            "needs_background": "light"
          }
        }
      ]
    },
    {
      "cell_type": "code",
      "metadata": {
        "colab": {
          "base_uri": "https://localhost:8080/"
        },
        "id": "Msv1WM7WK4UJ",
        "outputId": "2d572d58-cb77-45d3-bb27-000562a0215b"
      },
      "source": [
        "from tensorflow.keras.applications import ResNet50V2\n",
        "\n",
        "backbone = ResNet50V2(\n",
        "    input_shape=(224, 224, 3),\n",
        "    include_top=False\n",
        ")\n",
        "\n",
        "model = tf.keras.Sequential([\n",
        "    backbone,\n",
        "    tf.keras.layers.GlobalAveragePooling2D(),\n",
        "    tf.keras.layers.Dense(1, activation='sigmoid')\n",
        "])\n",
        "\n",
        "model.summary()"
      ],
      "execution_count": null,
      "outputs": [
        {
          "output_type": "stream",
          "name": "stdout",
          "text": [
            "Downloading data from https://storage.googleapis.com/tensorflow/keras-applications/resnet/resnet50v2_weights_tf_dim_ordering_tf_kernels_notop.h5\n",
            "94674944/94668760 [==============================] - 1s 0us/step\n",
            "94683136/94668760 [==============================] - 1s 0us/step\n",
            "Model: \"sequential\"\n",
            "_________________________________________________________________\n",
            "Layer (type)                 Output Shape              Param #   \n",
            "=================================================================\n",
            "resnet50v2 (Functional)      (None, 7, 7, 2048)        23564800  \n",
            "_________________________________________________________________\n",
            "global_average_pooling2d (Gl (None, 2048)              0         \n",
            "_________________________________________________________________\n",
            "dense (Dense)                (None, 1)                 2049      \n",
            "=================================================================\n",
            "Total params: 23,566,849\n",
            "Trainable params: 23,521,409\n",
            "Non-trainable params: 45,440\n",
            "_________________________________________________________________\n"
          ]
        }
      ]
    },
    {
      "cell_type": "markdown",
      "metadata": {
        "id": "LP52ISYJLb3v"
      },
      "source": [
        "## Compilation of the model with the optimizer, missing data and its metrics\n",
        "---\n",
        "## Compilación del modelo con el optimizador, los datos perdidos y sus métricas"
      ]
    },
    {
      "cell_type": "code",
      "metadata": {
        "id": "SRf7LGMULDC5"
      },
      "source": [
        "model.compile(\n",
        "    optimizer=tf.keras.optimizers.Adam(learning_rate=0.001, beta_1=0.9, beta_2=0.999, epsilon=1e-07),\n",
        "    loss = 'binary_crossentropy',\n",
        "    metrics=['accuracy' , tf.keras.metrics.Precision(name='precision'),tf.keras.metrics.Recall(name='recall')]\n",
        ")"
      ],
      "execution_count": null,
      "outputs": []
    },
    {
      "cell_type": "code",
      "metadata": {
        "id": "WNg0OLvFLyxB"
      },
      "source": [
        "checkpoint = tf.keras.callbacks.ModelCheckpoint(\"best_weights.h5\",verbose=1,save_best_only=True,save_weights_only = True)\n",
        "early_stop = tf.keras.callbacks.EarlyStopping(patience=4)"
      ],
      "execution_count": null,
      "outputs": []
    },
    {
      "cell_type": "markdown",
      "metadata": {
        "id": "SUSUNY4FMEld"
      },
      "source": [
        "## Model training\n",
        "---\n",
        "## Entrenamiento del modelo"
      ]
    },
    {
      "cell_type": "code",
      "metadata": {
        "colab": {
          "base_uri": "https://localhost:8080/"
        },
        "id": "Bz3qpcZGL8RI",
        "outputId": "81709d85-d96d-4292-cbcb-cd9ffc165ee1"
      },
      "source": [
        "history = model.fit(\n",
        "    train_dataset,\n",
        "    steps_per_epoch=train_dataset_length//size,\n",
        "    epochs=5,\n",
        "    callbacks=[checkpoint , early_stop],\n",
        "    validation_data=val_dataset,\n",
        "    validation_steps = val_dataset_length//size,\n",
        ")"
      ],
      "execution_count": null,
      "outputs": [
        {
          "output_type": "stream",
          "name": "stdout",
          "text": [
            "Epoch 1/5\n",
            "101/163 [=================>............] - ETA: 19:13 - loss: 0.1151 - accuracy: 0.9536 - precision: 0.9654 - recall: 0.9654"
          ]
        }
      ]
    },
    {
      "cell_type": "markdown",
      "metadata": {
        "id": "7JJ4o6wQMgBO"
      },
      "source": [
        "## Interpretation of metrics\n",
        "---\n",
        "## Interpretación de las métricas"
      ]
    },
    {
      "cell_type": "code",
      "metadata": {
        "id": "YtLKc7EQMYIA"
      },
      "source": [
        "fig, ax = plt.subplots(1, 4, figsize=(20, 3))\n",
        "ax = ax.ravel()\n",
        "\n",
        "for i, met in enumerate(['precision', 'recall', 'accuracy', 'loss']):\n",
        "    ax[i].plot(history.history[met])\n",
        "    ax[i].plot(history.history['val_' + met])\n",
        "    ax[i].set_title('Model {}'.format(met))\n",
        "    ax[i].set_xlabel('epochs')\n",
        "    ax[i].set_ylabel(met)\n",
        "    ax[i].legend(['train', 'val'])"
      ],
      "execution_count": null,
      "outputs": []
    },
    {
      "cell_type": "markdown",
      "metadata": {
        "id": "DGRxwt9SMsRT"
      },
      "source": [
        "## Save the best model\n",
        "---\n",
        "## Guardar el mejor modelo"
      ]
    },
    {
      "cell_type": "code",
      "metadata": {
        "id": "QoD6qX4fMcum"
      },
      "source": [
        "model.load_weights(\"best_weights.h5\")\n",
        "model.save(\"model.h5\")"
      ],
      "execution_count": null,
      "outputs": []
    },
    {
      "cell_type": "markdown",
      "metadata": {
        "id": "TqinbmEkNTw7"
      },
      "source": [
        "## Complete model\n",
        "---\n",
        "## Modelo completo"
      ]
    },
    {
      "cell_type": "code",
      "metadata": {
        "id": "61SQYncaNauc"
      },
      "source": [
        "loaded_model = tf.keras.models.load_model(\"model.h5\")"
      ],
      "execution_count": null,
      "outputs": []
    },
    {
      "cell_type": "markdown",
      "metadata": {
        "id": "hSvn0pw9NmTz"
      },
      "source": [
        "## Create a 'test' dataset\n",
        "---\n",
        "## Crear un dataset de 'prueba'"
      ]
    },
    {
      "cell_type": "code",
      "metadata": {
        "id": "3pv7MYzVNlgd"
      },
      "source": [
        "test_image_paths = list(test_path.glob(\"*/*\"))\n",
        "test_image_paths = list(map(lambda x : str(x) , test_image_paths))\n",
        "test_labels = list(map(lambda x : get_label(x) , test_image_paths))\n",
        "\n",
        "test_image_paths = tf.convert_to_tensor(test_image_paths)\n",
        "test_labels = tf.convert_to_tensor(test_labels)\n",
        "\n",
        "def decode_image(image , label):\n",
        "    image = tf.io.read_file(image)\n",
        "    image = tf.io.decode_jpeg(image , channels = 3)\n",
        "    image = tf.image.resize(image , [224 , 224] , method=\"nearest\")\n",
        "    return image , label\n",
        "\n",
        "test_dataset = (\n",
        "     tf.data.Dataset\n",
        "    .from_tensor_slices((test_image_paths, test_labels))\n",
        "    .map(decode_image)\n",
        "    .batch(size)\n",
        ")"
      ],
      "execution_count": null,
      "outputs": []
    },
    {
      "cell_type": "markdown",
      "metadata": {
        "id": "lQDpRQU-OqF1"
      },
      "source": [
        "## Samples of validation images\n",
        "---\n",
        "## Muestras de imagenes de validación"
      ]
    },
    {
      "cell_type": "code",
      "metadata": {
        "id": "CYp1bEMQOA6T"
      },
      "source": [
        "image , label = next(iter(test_dataset))\n",
        "print(image.shape)\n",
        "print(label.shape)"
      ],
      "execution_count": null,
      "outputs": []
    },
    {
      "cell_type": "code",
      "metadata": {
        "id": "SeeTgAFfOBnr"
      },
      "source": [
        "print(INV_LABELS[label[0].numpy()])\n",
        "plt.imshow(image[0].numpy().reshape(224 , 224 , 3))"
      ],
      "execution_count": null,
      "outputs": []
    },
    {
      "cell_type": "markdown",
      "metadata": {
        "id": "mBUFtZzUOHUj"
      },
      "source": [
        "## Model evaluation\n",
        "---\n",
        "## Evaluación del modelo"
      ]
    },
    {
      "cell_type": "code",
      "metadata": {
        "id": "6BgmkRgcOEOa"
      },
      "source": [
        "loss, acc, prec, rec = loaded_model.evaluate(test_dataset)\n",
        "\n",
        "print(\" Testing Acc : \" , acc)\n",
        "print(\" Testing Precision \" , prec)\n",
        "print(\" Testing Recall \" , rec)"
      ],
      "execution_count": null,
      "outputs": []
    }
  ]
}